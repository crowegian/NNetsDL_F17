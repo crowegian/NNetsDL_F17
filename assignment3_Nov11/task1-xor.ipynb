{
 "cells": [
  {
   "cell_type": "markdown",
   "metadata": {},
   "source": [
    "# Task 1: XOR"
   ]
  },
  {
   "cell_type": "code",
   "execution_count": 1,
   "metadata": {
    "collapsed": true
   },
   "outputs": [],
   "source": [
    "# Import modules\n",
    "from __future__ import print_function\n",
    "import tensorflow as tf\n",
    "import numpy as np\n",
    "from numpy.random import shuffle\n",
    "import time\n",
    "import matplotlib.pyplot as plt\n",
    "\n",
    "# Plot configurations\n",
    "% matplotlib inline\n",
    "\n",
    "# Notebook auto reloads code. (Ref: http://stackoverflow.com/questions/1907993/autoreload-of-modules-in-ipython)\n",
    "% load_ext autoreload\n",
    "% autoreload 2"
   ]
  },
  {
   "cell_type": "markdown",
   "metadata": {},
   "source": [
    "## Task 1, Part 1: Backpropagation through time (BPTT)"
   ]
  },
  {
   "cell_type": "markdown",
   "metadata": {},
   "source": [
    "**Question:** Consider a simple RNN network shown in the following figure, where __ _wi, wh, b, a, c_ __ are the scalar parameters of the network. The loss function is the **mean squared error (MSE)**. Given input (x0, x1) = (1, 0), ground truth (g1, g2) = (1, 1), h0 = 0, (wi, wh, b, a, c) = (1, 1, 1, 1, 1), compute __ _(dwi, dwh, db, da, dc)_ __, which are the gradients of loss with repect to 5 parameters __ _(wi, wh, b, a, c)_ __.\n",
    "\n",
    "![bptt](./img/bptt.png)"
   ]
  },
  {
   "cell_type": "code",
   "execution_count": 10,
   "metadata": {},
   "outputs": [
    {
     "name": "stdout",
     "output_type": "stream",
     "text": [
      "h1 value: 0.8807970779778823\n",
      "yHat1 value: 1.8807970779778822\n",
      "loss_1 value: 0.7758034925743755\n",
      "h2 value: 0.8677026536525567\n",
      "yHat2 value: 1.8677026536525567\n",
      "loss_2 value: 0.7529078951556888\n"
     ]
    }
   ],
   "source": [
    "# from tensorflow.python.ops.math_ops import sigmoid\n",
    "import math\n",
    "\n",
    "wi, wh, b, a, c = [1,1,1,1,1,] \n",
    "def sigmoid(x):\n",
    "    return(1 / (1 + math.exp(-x)))\n",
    "def hCalc(x, h, wi = wi, wh = wh, b = b):\n",
    "    return(sigmoid(wi*x + wh*h + b))\n",
    "def yHatCalc(h, a = a, c = c):\n",
    "    return(a*h + c)\n",
    "def lossCalc(pred, truth):\n",
    "    return((pred - truth)**2)\n",
    "x0, x1 = [1, 0]\n",
    "g1, g2 = [1, 1]\n",
    "h0 = 0\n",
    "h1 = hCalc(x0, h0)\n",
    "print(\"h1 value: {}\".format(h1))\n",
    "yHat_1 = yHatCalc(h1)\n",
    "print(\"yHat1 value: {}\".format(yHat_1))\n",
    "l1 = lossCalc(yHat_1, g1)\n",
    "print(\"loss_1 value: {}\".format(l1))\n",
    "\n",
    "h2 = hCalc(x1, h1)\n",
    "print(\"h2 value: {}\".format(h2))\n",
    "yHat_2 = yHatCalc(h2)\n",
    "print(\"yHat2 value: {}\".format(yHat_2))\n",
    "l2 = lossCalc(yHat_2, g2)\n",
    "print(\"loss_2 value: {}\".format(l2))"
   ]
  },
  {
   "cell_type": "code",
   "execution_count": 17,
   "metadata": {},
   "outputs": [
    {
     "data": {
      "text/plain": [
       "0.18220642534223808"
      ]
     },
     "execution_count": 17,
     "metadata": {},
     "output_type": "execute_result"
    }
   ],
   "source": [
    "2*(yHat_2-1)*1*(h2*(1-h2)*h1*(1-h1)*x1 + h1*(1-h1)*x0)"
   ]
  },
  {
   "cell_type": "code",
   "execution_count": 25,
   "metadata": {},
   "outputs": [
    {
     "data": {
      "text/plain": [
       "0.20587242905339953"
      ]
     },
     "execution_count": 25,
     "metadata": {},
     "output_type": "execute_result"
    }
   ],
   "source": [
    "2*(yHat_2-1)*1*h2*(1-h2)*(x1 + wh*h1*(1-h1))+ 2*(yHat_1 - 1)*1*(h1*(1-h1)*x0)"
   ]
  },
  {
   "cell_type": "code",
   "execution_count": 26,
   "metadata": {},
   "outputs": [
    {
     "data": {
      "text/plain": [
       "0.8807970779778823"
      ]
     },
     "execution_count": 26,
     "metadata": {},
     "output_type": "execute_result"
    }
   ],
   "source": [
    "h1"
   ]
  },
  {
   "cell_type": "code",
   "execution_count": 27,
   "metadata": {},
   "outputs": [
    {
     "data": {
      "text/plain": [
       "0.18495608645965972"
      ]
     },
     "execution_count": 27,
     "metadata": {},
     "output_type": "execute_result"
    }
   ],
   "source": [
    "2*(yHat_1 - 1)*1*(h1*(1-h1)*x0)"
   ]
  },
  {
   "cell_type": "code",
   "execution_count": 33,
   "metadata": {},
   "outputs": [
    {
     "data": {
      "text/plain": [
       "0.000967151217296901"
      ]
     },
     "execution_count": 33,
     "metadata": {},
     "output_type": "execute_result"
    }
   ],
   "source": [
    "(yHat_1 - 1)*1*h1*(1-h1) * (yHat_2 - 1)*a*h2*(1-h2) * (x1 + wh*h1*(1-h1)*x0)"
   ]
  },
  {
   "cell_type": "code",
   "execution_count": null,
   "metadata": {
    "collapsed": true
   },
   "outputs": [],
   "source": []
  },
  {
   "cell_type": "markdown",
   "metadata": {},
   "source": [
    "<span style=\"color:red\">TODO:</span>\n",
    "\n",
    "Answer the above question. \n",
    "\n",
    "* **[fill in here: Enter your derivations and the computational process]**\n",
    "* You can use LATEX to edit the equations, and Jupyter notebook can recognize basic LATEX syntax. Alternatively, you can edit equations in some other environment and then paste the screenshot of the equations here."
   ]
  },
  {
   "cell_type": "markdown",
   "metadata": {},
   "source": [
    "## Task 1, Part 2: Use tensorflow modules to create XOR network\n",
    "\n",
    "In this part, you need to build and train an XOR network that can learn the XOR function. It is a very simple implementation of RNN and will give you an idea how RNN is built and how to train it."
   ]
  },
  {
   "cell_type": "markdown",
   "metadata": {},
   "source": [
    "### XOR network\n",
    "\n",
    "XOR network can learn the XOR $\\oplus$ function\n",
    "\n",
    "As shown in the figure below, and for instance, if input $(x0, x1, x2)$=(1,0,0), then output $(y1, y2, y3)$=(1,1,1). That is, $y_n = x_0\\oplus x_1 \\oplus ... \\oplus x_{n-1}$\n",
    "\n",
    "![xor_net](./img/xor.png)"
   ]
  },
  {
   "cell_type": "markdown",
   "metadata": {},
   "source": [
    "### Create data set\n",
    "This function provides you the way to generate the data which is required for the training process. You should utilize it when building your training function for the LSTM. Please read the source code for more information."
   ]
  },
  {
   "cell_type": "code",
   "execution_count": 41,
   "metadata": {
    "collapsed": true
   },
   "outputs": [],
   "source": [
    "from ecbm4040.xor.utils import create_dataset\n",
    "# x, y = create_dataset(num_samples = 2, seq_len=8)\n",
    "# print(x)\n",
    "# print(y)"
   ]
  },
  {
   "cell_type": "markdown",
   "metadata": {},
   "source": [
    "### Build a network using a Tensorlow LSTMCell\n",
    "This section shows an example how to build a RNN network using an LSTM cell. LSTM cell is an inbuilt class in tensorflow which implements the real behavior of the LSTM neuron. \n",
    "\n",
    "Reference: [TensorFlow LSTM cell](https://www.tensorflow.org/api_docs/python/tf/contrib/rnn/LSTMCell)"
   ]
  },
  {
   "cell_type": "code",
   "execution_count": 16,
   "metadata": {
    "collapsed": true
   },
   "outputs": [],
   "source": [
    "from tensorflow.contrib.rnn import LSTMCell\n",
    "\n",
    "tf.reset_default_graph()\n",
    "\n",
    "# Input shape: (num_samples, seq_length, input_dimension)\n",
    "# Output shape: (num_samples, output_ground_truth), and output_ground_truth is 0/1. \n",
    "input_data = tf.placeholder(tf.float32,shape=[None,None,1])\n",
    "output_data = tf.placeholder(tf.int64,shape=[None,None])\n",
    "\n",
    "# define LSTM cell\n",
    "lstm_units = 64\n",
    "cell = LSTMCell(lstm_units,num_proj=2,state_is_tuple=True)\n",
    "\n",
    "# create LSTM network: you can also choose other modules provided by tensorflow, like static_rnn etc.\n",
    "out,_ = tf.nn.dynamic_rnn(cell,input_data,dtype=tf.float32)\n",
    "pred = tf.argmax(out,axis=2)\n",
    "\n",
    "# loss function\n",
    "loss = tf.reduce_mean(tf.nn.sparse_softmax_cross_entropy_with_logits(labels=output_data,logits=out))\n",
    "\n",
    "# optimization\n",
    "optimizer = tf.train.AdamOptimizer(learning_rate=0.1).minimize(loss)\n",
    "\n",
    "# accuracy\n",
    "correct_num = tf.equal(output_data,pred)\n",
    "accuracy = tf.reduce_mean(tf.cast(correct_num,tf.float32))"
   ]
  },
  {
   "cell_type": "markdown",
   "metadata": {},
   "source": [
    "### Training \n",
    "\n",
    "<span style='color:red'>TODO:</span> \n",
    "1. Build your training funciton for RNN; \n",
    "2. Plot the cost during the traning"
   ]
  },
  {
   "cell_type": "code",
   "execution_count": 17,
   "metadata": {
    "collapsed": true
   },
   "outputs": [],
   "source": [
    "x, y = create_dataset(num_samples = 2, seq_len=8)\n",
    "epochs = 500"
   ]
  },
  {
   "cell_type": "code",
   "execution_count": 18,
   "metadata": {},
   "outputs": [
    {
     "data": {
      "image/png": "[encoded data removed]",
      "text/plain": [
       "<matplotlib.figure.Figure at 0x7ff8bc939e10>"
      ]
     },
     "metadata": {},
     "output_type": "display_data"
    }
   ],
   "source": [
    "accuracyList = []\n",
    "\n",
    "with tf.Session() as sess:\n",
    "#     merge = tf.summary.merge_all()\n",
    "\n",
    "#     writer = tf.summary.FileWriter(\"log/{}\".format(cur_model_name), sess.graph)\n",
    "#     saver = tf.train.Saver()\n",
    "    sess.run(tf.global_variables_initializer())\n",
    "\n",
    "    # try to restore the pre_trained\n",
    "\n",
    "    for epc in range(epochs):\n",
    "#         print(\"epoch {} \".format(epc + 1))\n",
    "        _, currLoss = sess.run([optimizer, loss], feed_dict={input_data: x, output_data: y})\n",
    "        currAcc = sess.run([accuracy], feed_dict={input_data: x, output_data: y})\n",
    "#         print('loss: {} accuracy : {}%'.format(currLoss,currAcc))\n",
    "        accuracyList.append(currAcc)\n",
    "#         temp = sess.run([pred], feed_dict={input_data: x, output_data: y})\n",
    "plt.plot(accuracyList)\n",
    "plt.ylabel('Accuracy')\n",
    "plt.xlabel('Epoch')\n",
    "plt.title(\"Accuracy over epochs\")\n",
    "plt.show()"
   ]
  },
  {
   "cell_type": "code",
   "execution_count": 52,
   "metadata": {
    "collapsed": true
   },
   "outputs": [],
   "source": [
    "# # YOUR TRAINING AND PLOTTING CODE HERE\n",
    "# tf.reset_default_graph()\n",
    "\n",
    "# # Input shape: (num_samples, seq_length, input_dimension)\n",
    "# # Output shape: (num_samples, output_ground_truth), and output_ground_truth is 0/1. \n",
    "# input_data = tf.placeholder(tf.float32,shape=[None,None,1])\n",
    "# output_data = tf.placeholder(tf.int64,shape=[None,None])\n",
    "\n",
    "# # define LSTM cell\n",
    "# lstm_units = 64\n",
    "# cell_rnn = tf.contrib.rnn.BasicRNNCell(num_units = lstm_units,num_proj=2,state_is_tuple=True)\n",
    "# # cell_rnn = tf.contrib.rnn.LSTMCell(num_units = lstm_units)\n",
    "# # tf.contrib.rnn.BasicLSTMCell()\n",
    "# # tf.contrib.rnn.RNNCell()\n",
    "\n",
    "# # create LSTM network: you can also choose other modules provided by tensorflow, like static_rnn etc.\n",
    "# out,_ = tf.nn.dynamic_rnn(cell_rnn,input_data,dtype=tf.float32)\n",
    "# pred = tf.argmax(out,axis=2)\n",
    "\n",
    "# # loss function\n",
    "# loss = tf.reduce_mean(tf.nn.sparse_softmax_cross_entropy_with_logits(labels=output_data,logits=out))\n",
    "\n",
    "# # optimization\n",
    "# optimizer = tf.train.AdamOptimizer(learning_rate=0.1).minimize(loss)\n",
    "\n",
    "# # accuracy\n",
    "# correct_num = tf.equal(output_data,pred)\n",
    "# accuracy = tf.reduce_mean(tf.cast(correct_num,tf.float32))\n",
    "# epoch = 500\n",
    "# batch_size = 1\n",
    "# iters = int(x.shape[0] / batch_size)\n",
    "# print(iters)"
   ]
  },
  {
   "cell_type": "code",
   "execution_count": 53,
   "metadata": {
    "collapsed": true,
    "scrolled": true
   },
   "outputs": [],
   "source": [
    "# x, y = create_dataset(num_samples = 10, seq_len=2)"
   ]
  },
  {
   "cell_type": "code",
   "execution_count": 54,
   "metadata": {
    "collapsed": true
   },
   "outputs": [],
   "source": [
    "# accuracyList = []\n",
    "\n",
    "# with tf.Session() as sess:\n",
    "# #     merge = tf.summary.merge_all()\n",
    "\n",
    "# #     writer = tf.summary.FileWriter(\"log/{}\".format(cur_model_name), sess.graph)\n",
    "# #     saver = tf.train.Saver()\n",
    "#     sess.run(tf.global_variables_initializer())\n",
    "\n",
    "#     # try to restore the pre_trained\n",
    "\n",
    "#     for epc in range(epoch):\n",
    "# #         print(\"epoch {} \".format(epc + 1))\n",
    "#         _, currLoss = sess.run([optimizer, loss], feed_dict={input_data: x, output_data: y})\n",
    "#         currAcc = sess.run([accuracy], feed_dict={input_data: x, output_data: y})\n",
    "# #         print('loss: {} accuracy : {}%'.format(currLoss,currAcc))\n",
    "#         accuracyList.append(currAcc)\n",
    "# #         temp = sess.run([pred], feed_dict={input_data: x, output_data: y})\n",
    "# plt.plot(accuracyList)\n",
    "# plt.ylabel('Accuracy')\n",
    "# plt.xlabel('Epoch')\n",
    "# plt.title(\"Accuracy over epochs\")\n",
    "# plt.show()"
   ]
  },
  {
   "cell_type": "code",
   "execution_count": null,
   "metadata": {
    "collapsed": true
   },
   "outputs": [],
   "source": [
    "# tf.get_v"
   ]
  },
  {
   "cell_type": "markdown",
   "metadata": {
    "collapsed": true
   },
   "source": [
    "## Task 1, Part 3 :  Build your own LSTMCell\n",
    "In this part, you need to build your own LSTM cell to achieve the LSTM functionality. \n",
    "\n",
    "<span style=\"color:red\">TODO:</span> \n",
    "1. Finish class **MyLSTMCell** in ecbm4040/xor/rnn.py;\n",
    "2. Write the training function for your RNN;\n",
    "3. Plot the cost during training."
   ]
  },
  {
   "cell_type": "code",
   "execution_count": 67,
   "metadata": {},
   "outputs": [
    {
     "name": "stdout",
     "output_type": "stream",
     "text": [
      "num units 64\n",
      "num proj 4\n",
      "inputs shape (?, 1)\n",
      "m_prev shape (?, 4)\n",
      "i shape (?, 64)\n",
      "j shape (?, 64)\n",
      "f shape (?, 64)\n",
      "o shape (?, 64)\n",
      "c shape (?, 64)\n",
      "m shape (?, 64)\n",
      "W2 shape (64, 4)\n",
      "W1 shape (5, 256)\n",
      "m proj shape (?, 4)\n"
     ]
    }
   ],
   "source": [
    "from ecbm4040.xor.rnn import MyLSTMCell\n",
    "\n",
    "# recreate xor netowrk with your own LSTM cell\n",
    "tf.reset_default_graph()\n",
    "\n",
    "#Input shape: (num_samples,seq_length,input_dimension)\n",
    "#Output shape: (num_samples, output_ground_truth), and output_ground_truth is 0/1. \n",
    "input_data = tf.placeholder(tf.float32,shape=[None,None,1])\n",
    "output_data = tf.placeholder(tf.int64,shape=[None,None])\n",
    "\n",
    "# recreate xor netowrk with your own LSTM cell\n",
    "lstm_units = 64\n",
    "# https://github.com/tensorflow/tensorflow/blob/r1.4/tensorflow/python/ops/rnn_cell_impl.py\n",
    "# Use above for this stuff\n",
    "cell = MyLSTMCell(lstm_units,num_proj=4)\n",
    "# print(cell)\n",
    "\n",
    "# create LSTM network: you can also choose other modules provided by tensorflow, like static_rnn etc.\n",
    "out,_ = tf.nn.dynamic_rnn(cell,input_data,dtype=tf.float32)\n",
    "pred = tf.argmax(out,axis=2)\n",
    "\n",
    "# loss function\n",
    "loss = tf.reduce_mean(tf.nn.sparse_softmax_cross_entropy_with_logits(labels=output_data,logits=out))\n",
    "# optimization\n",
    "optimizer = tf.train.AdamOptimizer(learning_rate=0.1).minimize(loss)\n",
    "# accuracy\n",
    "correct = tf.equal(output_data,pred)\n",
    "accuracy = tf.reduce_mean(tf.cast(correct,tf.float32))"
   ]
  },
  {
   "cell_type": "markdown",
   "metadata": {},
   "source": [
    "### Training"
   ]
  },
  {
   "cell_type": "code",
   "execution_count": 68,
   "metadata": {},
   "outputs": [
    {
     "data": {
      "image/png": "[encoded data removed]",
      "text/plain": [
       "<matplotlib.figure.Figure at 0x7f228b207080>"
      ]
     },
     "metadata": {},
     "output_type": "display_data"
    }
   ],
   "source": [
    "# YOUR TRAINING AND PLOTTING CODE HERE\n",
    "x, y = create_dataset(num_samples = 2, seq_len=8)\n",
    "epochs = 500\n",
    "accuracyList = []\n",
    "\n",
    "with tf.Session() as sess:\n",
    "#     merge = tf.summary.merge_all()\n",
    "\n",
    "#     writer = tf.summary.FileWriter(\"log/{}\".format(cur_model_name), sess.graph)\n",
    "#     saver = tf.train.Saver()\n",
    "    sess.run(tf.global_variables_initializer())\n",
    "\n",
    "    # try to restore the pre_trained\n",
    "\n",
    "    for epc in range(epochs):\n",
    "#         print(\"epoch {} \".format(epc + 1))\n",
    "        _, currLoss = sess.run([optimizer, loss], feed_dict={input_data: x, output_data: y})\n",
    "        currAcc = sess.run([accuracy], feed_dict={input_data: x, output_data: y})\n",
    "#         print('loss: {} accuracy : {}%'.format(currLoss,currAcc))\n",
    "        accuracyList.append(currAcc)\n",
    "#         temp = sess.run([pred], feed_dict={input_data: x, output_data: y})\n",
    "plt.plot(accuracyList)\n",
    "plt.ylabel('Accuracy')\n",
    "plt.xlabel('Epoch')\n",
    "plt.title(\"Accuracy over epochs\")\n",
    "plt.show()"
   ]
  },
  {
   "cell_type": "code",
   "execution_count": 44,
   "metadata": {},
   "outputs": [
    {
     "name": "stdout",
     "output_type": "stream",
     "text": [
      "/home/ob2285/anaconda3/envs/NNetsDL_F17/lib/python3.6/site-packages/tensorflow/__init__.py\n"
     ]
    }
   ],
   "source": [
    "import tensorflow as tf\n",
    "print (tf.__file__)"
   ]
  },
  {
   "cell_type": "code",
   "execution_count": null,
   "metadata": {
    "collapsed": true
   },
   "outputs": [],
   "source": []
  }
 ],
 "metadata": {
  "kernelspec": {
   "display_name": "Python [default]",
   "language": "python",
   "name": "python3"
  },
  "language_info": {
   "codemirror_mode": {
    "name": "ipython",
    "version": 3
   },
   "file_extension": ".py",
   "mimetype": "text/x-python",
   "name": "python",
   "nbconvert_exporter": "python",
   "pygments_lexer": "ipython3",
   "version": "3.5.3"
  }
 },
 "nbformat": 4,
 "nbformat_minor": 2
}
