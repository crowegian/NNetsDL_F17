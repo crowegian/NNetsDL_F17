{
 "cells": [
  {
   "cell_type": "markdown",
   "metadata": {},
   "source": [
    "# Task 2: RNN application -- Tweet Sentiment Analysis"
   ]
  },
  {
   "cell_type": "code",
   "execution_count": 1,
   "metadata": {
    "collapsed": true
   },
   "outputs": [],
   "source": [
    "# Import modules\n",
    "from __future__ import print_function\n",
    "import tensorflow as tf\n",
    "import numpy as np\n",
    "import json\n",
    "import time\n",
    "import matplotlib.pyplot as plt\n",
    "import pickle\n",
    "\n",
    "# Plot configurations\n",
    "% matplotlib inline\n",
    "# Notebook auto reloads code. (Ref: http://stackoverflow.com/questions/1907993/autoreload-of-modules-in-ipython)\n",
    "% load_ext autoreload\n",
    "% autoreload 2"
   ]
  },
  {
   "cell_type": "markdown",
   "metadata": {},
   "source": [
    "### Load data"
   ]
  },
  {
   "cell_type": "code",
   "execution_count": 2,
   "metadata": {},
   "outputs": [
    {
     "name": "stdout",
     "output_type": "stream",
     "text": [
      "size of original train set: 60000\n",
      "size of original test set: 20000\n",
      "****************************************************************************************************\n",
      "size of train set: 60000, #positive: 30055, #negative: 29945\n",
      "size of test set: 1000, #positive: 510, #negative: 490\n",
      "['it', 'will', 'help', 'relieve', 'your', 'stress', 'padtoken', 'padtoken', 'padtoken', 'padtoken', 'padtoken', 'padtoken', 'padtoken', 'padtoken', 'padtoken', 'padtoken', 'padtoken', 'padtoken', 'padtoken', 'padtoken']\n",
      "sentiment: positive\n"
     ]
    }
   ],
   "source": [
    "with open(\"./tweets_data/vocabulary.pkl\", \"rb\") as f:\n",
    "    vocabulary = pickle.load(f)\n",
    "\n",
    "# load our data and separate it into tweets and labels\n",
    "train_data = json.load(open('tweets_data/trainTweets_preprocessed.json', 'r'))\n",
    "train_data = list(map(lambda row:(np.array(row[0],dtype=np.int32),str(row[1])),train_data))\n",
    "train_tweets = np.array([t[0] for t in train_data])\n",
    "train_labels = np.array([int(t[1]) for t in train_data])\n",
    "\n",
    "test_data = json.load(open('tweets_data/testTweets_preprocessed.json', 'r'))\n",
    "test_data = list(map(lambda row:(np.array(row[0],dtype=np.int32),str(row[1])),test_data))\n",
    "test_tweets = np.array([t[0] for t in test_data])\n",
    "test_labels = np.array([int(t[1]) for t in test_data])\n",
    "\n",
    "print(\"size of original train set: {}\".format(len(train_tweets)))\n",
    "print(\"size of original test set: {}\".format(len(test_tweets)))\n",
    "\n",
    "# only select first 1000 test sample for test\n",
    "test_tweets = test_tweets[:1000]\n",
    "test_labels = test_labels[:1000]\n",
    "\n",
    "print(\"*\"*100)\n",
    "print(\"size of train set: {}, #positive: {}, #negative: {}\".format(len(train_tweets), np.sum(train_labels), len(train_tweets)-np.sum(train_labels)))\n",
    "print(\"size of test set: {}, #positive: {}, #negative: {}\".format(len(test_tweets), np.sum(test_labels), len(test_tweets)-np.sum(test_labels)))\n",
    "\n",
    "# show text of the idx-th train tweet\n",
    "# The 'padtoken' is used to ensure each tweet has the same length\n",
    "idx = 100\n",
    "train_text = [vocabulary[x] for x in train_tweets[idx]]\n",
    "print(train_text)\n",
    "sentiment_label = [\"negative\", \"positive\"]\n",
    "print(\"sentiment: {}\".format(sentiment_label[train_labels[idx]]))"
   ]
  },
  {
   "cell_type": "markdown",
   "metadata": {},
   "source": [
    "## Part 1: LSTM Encoder"
   ]
  },
  {
   "cell_type": "markdown",
   "metadata": {},
   "source": [
    "### train a single-layer lstm network\n",
    "\n",
    "First of all, we'll build a single-layer LSTM network for the analysis. The network structure is the following:\n",
    "\n",
    "![](./img/singleLSTM.png)\n",
    "\n",
    "<span style=\"color:red\">__TODO:__</span> Below, we've defined the network for you. Please read the code carefully to make sure you understand it. Then, please write a training function to train this network. The settings are:\n",
    "\n",
    "1. Train the network for 1000 iterations. In each iteration, use batch_size samples to train the network.\n",
    "2. For every 50 iterations, apply the network on the test set, and print out the test accuracy and mean loss.\n",
    "\n",
    "With these settings, what accuracy could you get? You can try to change some stuff in the network to see if you could get a better accuracy (this is optional)."
   ]
  },
  {
   "cell_type": "code",
   "execution_count": 3,
   "metadata": {
    "collapsed": true
   },
   "outputs": [],
   "source": [
    "# define a linear layer, y = x*w + b\n",
    "def linear(input_, output_size, name, init_bias=0.0):\n",
    "    shape = input_.get_shape().as_list()\n",
    "    with tf.variable_scope(name):\n",
    "        init = tf.truncated_normal([shape[-1], output_size], mean=0.0, stddev=1.0 / shape[-1]**0.5)\n",
    "        W = tf.get_variable(\"weight\", initializer=init)\n",
    "    if init_bias is None:\n",
    "        return tf.matmul(input_, W)\n",
    "    with tf.variable_scope(name):\n",
    "        b = tf.get_variable(\"bias\", [output_size], initializer=tf.constant_initializer(init_bias))\n",
    "    return tf.matmul(input_, W) + b"
   ]
  },
  {
   "cell_type": "code",
   "execution_count": 29,
   "metadata": {
    "collapsed": true
   },
   "outputs": [],
   "source": [
    "# set variables\n",
    "tweet_size = 20\n",
    "hidden_size = 100\n",
    "vocab_size = 7597\n",
    "batch_size = 64\n",
    "\n",
    "# this just makes sure that all our following operations will be placed in the right graph.\n",
    "tf.reset_default_graph()\n",
    "\n",
    "# make placeholders for data we'll feed in\n",
    "tweets = tf.placeholder(tf.int32, [None, tweet_size])\n",
    "labels = tf.placeholder(tf.float32, [None])\n",
    "\n",
    "tweets_onehot = tf.one_hot(tweets, depth=vocab_size, axis=-1)\n",
    "\n",
    "# define the lstm cell\n",
    "lstm_cell = tf.contrib.rnn.LSTMCell(hidden_size)\n",
    "\n",
    "# define the op that runs the LSTM, across time, on the data\n",
    "init_state = lstm_cell.zero_state(batch_size, tf.float32)\n",
    "# outputs, final_state = tf.nn.dynamic_rnn(lstm_cell, tweets_onehot, initial_state=init_state, dtype=tf.float32)\n",
    "outputs, final_state = tf.nn.dynamic_rnn(lstm_cell, tweets_onehot, dtype=tf.float32)\n",
    "\n",
    "# define that our final sentiment logit is a linear function of the final state of the LSTM\n",
    "sentiment = linear(final_state[-1], 1, name=\"output\")\n",
    "\n",
    "# define cross entropy/sigmoid loss function\n",
    "sentiment = tf.squeeze(sentiment, [1])\n",
    "loss = tf.nn.sigmoid_cross_entropy_with_logits(logits=sentiment, labels=labels)\n",
    "loss = tf.reduce_mean(loss)\n",
    "\n",
    "# compute accuracy\n",
    "prob = tf.nn.sigmoid(sentiment)\n",
    "prediction = tf.to_float(tf.greater_equal(prob, 0.5))\n",
    "acc = tf.to_float(tf.equal(prediction, labels))\n",
    "acc = tf.reduce_mean(acc)\n",
    "\n",
    "# define optimizer\n",
    "trainer = tf.train.AdamOptimizer()\n",
    "gradients = trainer.compute_gradients(loss)\n",
    "gradients_clipped = [(tf.clip_by_value(t[0],-1,1),t[1]) for t in gradients]\n",
    "optimizer = trainer.apply_gradients(gradients_clipped)\n",
    "\n",
    "\n",
    "\n",
    "\n",
    "# train_tweets = tf.convert_to_tensor(train_tweets)\n",
    "# train_labels = tf.convert_to_tensor(train_labels)\n",
    "# test_tweets = tf.convert_to_tensor(test_tweets)\n",
    "# test_labels = tf.convert_to_tensor(test_labels)"
   ]
  },
  {
   "cell_type": "code",
   "execution_count": 55,
   "metadata": {
    "collapsed": true
   },
   "outputs": [],
   "source": [
    "# train_tweets = tf.convert_to_tensor(train_tweets)\n",
    "# train_labels = tf.convert_to_tensor(train_labels)\n",
    "# test_tweets = tf.convert_to_tensor(test_tweets)\n",
    "# test_labels = tf.convert_to_tensor(test_labels)\n",
    "def batchGenerator(x, y , batchSize, shuffle = False, seed = 23):\n",
    "    np.random.seed(seed)\n",
    "    nObs = x.shape[0]\n",
    "    totalBatches = nObs//batchSize\n",
    "#     print(totalBatches)\n",
    "#     1/0\n",
    "    #print(\"total batches {}\".format(totalBatches))\n",
    "    batchCount = 0\n",
    "    randIndices = np.random.randint(low = 0, high = nObs, size = nObs)\n",
    "    randIndices = np.random.permutation(nObs)\n",
    "    while True:\n",
    "#         print(batchCount)\n",
    "        if batchCount < totalBatches:\n",
    "            # batchCount += 1\n",
    "            myIndices = randIndices[batchSize*batchCount:(batchSize*(batchCount + 1))]\n",
    "            yield(x[myIndices,:], y[myIndices])\n",
    "            batchCount += 1\n",
    "        else:\n",
    "            if shuffle:\n",
    "#                 print('hey')\n",
    "#                 print(batchCount)\n",
    "                #print(\"Shuffling X\\nX shape before: {}\".format(self.x.shape))\n",
    "                myShuffle = np.random.permutation(nObs)\n",
    "                x = x[myShuffle, :]# shuffle x\n",
    "                y = y[myShuffle]\n",
    "            batchCount = 0"
   ]
  },
  {
   "cell_type": "code",
   "execution_count": 57,
   "metadata": {
    "scrolled": false
   },
   "outputs": [
    {
     "name": "stdout",
     "output_type": "stream",
     "text": [
      "For Iteration 0\n",
      "\tTest loss:0.6937750577926636\n",
      "\tTest Accurcy:0.492000013589859\n",
      "For Iteration 50\n",
      "\tTest loss:0.6652337908744812\n",
      "\tTest Accurcy:0.5999999642372131\n",
      "For Iteration 100\n",
      "\tTest loss:0.5711249113082886\n",
      "\tTest Accurcy:0.7199999690055847\n",
      "For Iteration 150\n",
      "\tTest loss:0.5664047002792358\n",
      "\tTest Accurcy:0.6950000524520874\n",
      "For Iteration 200\n",
      "\tTest loss:0.5575327277183533\n",
      "\tTest Accurcy:0.7239999771118164\n",
      "For Iteration 250\n",
      "\tTest loss:0.5398330092430115\n",
      "\tTest Accurcy:0.731999933719635\n",
      "For Iteration 300\n",
      "\tTest loss:0.5401647090911865\n",
      "\tTest Accurcy:0.7239999771118164\n",
      "For Iteration 350\n",
      "\tTest loss:0.5380051136016846\n",
      "\tTest Accurcy:0.7209999561309814\n",
      "For Iteration 400\n",
      "\tTest loss:0.5320348739624023\n",
      "\tTest Accurcy:0.7329999804496765\n",
      "For Iteration 450\n",
      "\tTest loss:0.523109495639801\n",
      "\tTest Accurcy:0.7430000305175781\n",
      "For Iteration 500\n",
      "\tTest loss:0.5253843665122986\n",
      "\tTest Accurcy:0.7410000562667847\n",
      "For Iteration 550\n",
      "\tTest loss:0.5377519726753235\n",
      "\tTest Accurcy:0.7310000061988831\n",
      "For Iteration 600\n",
      "\tTest loss:0.526928722858429\n",
      "\tTest Accurcy:0.746999979019165\n",
      "For Iteration 650\n",
      "\tTest loss:0.5189785957336426\n",
      "\tTest Accurcy:0.749000072479248\n",
      "For Iteration 700\n",
      "\tTest loss:0.5200147032737732\n",
      "\tTest Accurcy:0.7409999966621399\n",
      "For Iteration 750\n",
      "\tTest loss:0.5110792517662048\n",
      "\tTest Accurcy:0.7509999871253967\n",
      "For Iteration 800\n",
      "\tTest loss:0.5110059380531311\n",
      "\tTest Accurcy:0.7430000901222229\n",
      "For Iteration 850\n",
      "\tTest loss:0.5268848538398743\n",
      "\tTest Accurcy:0.7550000548362732\n",
      "For Iteration 900\n",
      "\tTest loss:0.5076776146888733\n",
      "\tTest Accurcy:0.752000093460083\n",
      "For Iteration 950\n",
      "\tTest loss:0.5219939351081848\n",
      "\tTest Accurcy:0.7500000596046448\n",
      "For Iteration 999\n",
      "\tTest loss:0.5097923874855042\n",
      "\tTest Accurcy:0.7500000596046448\n"
     ]
    }
   ],
   "source": [
    "# Training function\n",
    "num_steps = 1000\n",
    "myBatchGen = batchGenerator(x = train_tweets, y = train_labels, batchSize = batch_size, shuffle = False, seed = 23)\n",
    "\n",
    "\n",
    "with tf.Session() as sess:\n",
    "    sess.run(tf.global_variables_initializer())\n",
    "#     print('1')\n",
    "    for step in range(num_steps):\n",
    "        # TODO: get data for a batch\n",
    "        training_batch_x, training_batch_y = next(myBatchGen)\n",
    "\n",
    "        # TODO: run the 'optimizer', 'loss', and 'acc' operations in the graph using the batch data\n",
    "        _, train_loss, train_acc = sess.run([optimizer, loss, acc], feed_dict={tweets: training_batch_x,\n",
    "                                                                               labels: training_batch_y})\n",
    "#         _, train_loss, train_acc = pass\n",
    "#         if step > 230:\n",
    "#             print(step)\n",
    "        if (step % 50 == 0 or step == 999):\n",
    "            trainLoss, testAccuracy = sess.run([loss, acc], feed_dict={tweets: test_tweets,\n",
    "                                                                           labels: test_labels})\n",
    "            print(\"For Iteration {}\\n\\tTest loss:{}\\n\\tTest Accurcy:{}\".format(step, trainLoss, testAccuracy))\n",
    "#             # TODO: get test accuracy and loss, and print them out.\n",
    "            "
   ]
  },
  {
   "cell_type": "markdown",
   "metadata": {},
   "source": [
    "### train a two-layer lstm network\n",
    "\n",
    "Next, we look at a slightly more difficult network structure: a double-layer LSTM. The output of the first LSTM cell is propagated to the second LSTM cell. We only need to make small modifications to the previous network to construct this one.\n",
    "\n",
    "![](./img/doubleLSTM.png)\n",
    "\n",
    "<span style=\"color:red\">__TODO:__</span> Define this double-layer LSTM in the below notebook cell. You can copy the single-layer network code and make changes to it. After that, train the network using the function you just wrote.\n",
    "\n",
    "Hint: Use **tf.contrib.rnn.MultiRNNCell**. You'll find there are only 2-3 lines of code that need to be changed."
   ]
  },
  {
   "cell_type": "code",
   "execution_count": 75,
   "metadata": {
    "collapsed": true
   },
   "outputs": [],
   "source": [
    "# YOUR DOUBLE-LAYER LSTM Here\n",
    "tweet_size = 20\n",
    "hidden_size = 100\n",
    "vocab_size = 7597\n",
    "batch_size = 64\n",
    "nLayers = 2\n",
    "\n",
    "# this just makes sure that all our following operations will be placed in the right graph.\n",
    "tf.reset_default_graph()\n",
    "\n",
    "# make placeholders for data we'll feed in\n",
    "tweets = tf.placeholder(tf.int32, [None, tweet_size])\n",
    "labels = tf.placeholder(tf.float32, [None])\n",
    "\n",
    "tweets_onehot = tf.one_hot(tweets, depth=vocab_size, axis=-1)\n",
    "\n",
    "# define the lstm cell\n",
    "# lstm_cell = tf.contrib.rnn.LSTMCell(hidden_size)\n",
    "lstm_cell = tf.contrib.rnn.MultiRNNCell([tf.contrib.rnn.LSTMCell(hidden_size) for _ in range(nLayers)])\n",
    "# print(lstm_cell)\n",
    "\n",
    "# define the op that runs the LSTM, across time, on the data\n",
    "init_state = lstm_cell.zero_state(batch_size, tf.float32)\n",
    "# outputs, final_state = tf.nn.dynamic_rnn(lstm_cell, tweets_onehot, initial_state=init_state, dtype=tf.float32)\n",
    "outputs, final_state = tf.nn.dynamic_rnn(lstm_cell, tweets_onehot, dtype=tf.float32)\n",
    "\n",
    "# define that our final sentiment logit is a linear function of the final state of the LSTM\n",
    "# print(final_state[-1])\n",
    "# print(final_state[-1][-1])\n",
    "sentiment = linear(final_state[-1][-1], 1, name=\"output\")\n",
    "\n",
    "# define cross entropy/sigmoid loss function\n",
    "sentiment = tf.squeeze(sentiment, [1])\n",
    "loss = tf.nn.sigmoid_cross_entropy_with_logits(logits=sentiment, labels=labels)\n",
    "loss = tf.reduce_mean(loss)\n",
    "\n",
    "# compute accuracy\n",
    "prob = tf.nn.sigmoid(sentiment)\n",
    "prediction = tf.to_float(tf.greater_equal(prob, 0.5))\n",
    "acc = tf.to_float(tf.equal(prediction, labels))\n",
    "acc = tf.reduce_mean(acc)\n",
    "\n",
    "# define optimizer\n",
    "trainer = tf.train.AdamOptimizer()\n",
    "gradients = trainer.compute_gradients(loss)\n",
    "gradients_clipped = [(tf.clip_by_value(t[0],-1,1),t[1]) for t in gradients]\n",
    "optimizer = trainer.apply_gradients(gradients_clipped)\n"
   ]
  },
  {
   "cell_type": "code",
   "execution_count": 76,
   "metadata": {},
   "outputs": [
    {
     "name": "stdout",
     "output_type": "stream",
     "text": [
      "For Iteration 0\n",
      "\tTest loss:0.694391667842865\n",
      "\tTest Accurcy:0.49000000953674316\n",
      "For Iteration 50\n",
      "\tTest loss:0.672762393951416\n",
      "\tTest Accurcy:0.5769999623298645\n",
      "For Iteration 100\n",
      "\tTest loss:0.5861077904701233\n",
      "\tTest Accurcy:0.6920000314712524\n",
      "For Iteration 150\n",
      "\tTest loss:0.5694620013237\n",
      "\tTest Accurcy:0.7109999656677246\n",
      "For Iteration 200\n",
      "\tTest loss:0.543725848197937\n",
      "\tTest Accurcy:0.7269999980926514\n",
      "For Iteration 250\n",
      "\tTest loss:0.5420609712600708\n",
      "\tTest Accurcy:0.7279999256134033\n",
      "For Iteration 300\n",
      "\tTest loss:0.541493833065033\n",
      "\tTest Accurcy:0.7360000610351562\n",
      "For Iteration 350\n",
      "\tTest loss:0.5385265946388245\n",
      "\tTest Accurcy:0.7359999418258667\n",
      "For Iteration 400\n",
      "\tTest loss:0.5183773040771484\n",
      "\tTest Accurcy:0.7380000352859497\n",
      "For Iteration 450\n",
      "\tTest loss:0.5257933139801025\n",
      "\tTest Accurcy:0.7490000128746033\n",
      "For Iteration 500\n",
      "\tTest loss:0.518266499042511\n",
      "\tTest Accurcy:0.7470000386238098\n",
      "For Iteration 550\n",
      "\tTest loss:0.5462899804115295\n",
      "\tTest Accurcy:0.718999981880188\n",
      "For Iteration 600\n",
      "\tTest loss:0.5126178860664368\n",
      "\tTest Accurcy:0.7430000305175781\n",
      "For Iteration 650\n",
      "\tTest loss:0.5112797617912292\n",
      "\tTest Accurcy:0.7509999871253967\n",
      "For Iteration 700\n",
      "\tTest loss:0.5120583176612854\n",
      "\tTest Accurcy:0.7519999742507935\n",
      "For Iteration 750\n",
      "\tTest loss:0.5107935667037964\n",
      "\tTest Accurcy:0.7549999952316284\n",
      "For Iteration 800\n",
      "\tTest loss:0.5062886476516724\n",
      "\tTest Accurcy:0.7529999613761902\n",
      "For Iteration 850\n",
      "\tTest loss:0.5257524251937866\n",
      "\tTest Accurcy:0.7579999566078186\n",
      "For Iteration 900\n",
      "\tTest loss:0.5027849078178406\n",
      "\tTest Accurcy:0.753000020980835\n",
      "For Iteration 950\n",
      "\tTest loss:0.5230821967124939\n",
      "\tTest Accurcy:0.7610000371932983\n",
      "For Iteration 999\n",
      "\tTest loss:0.5133156776428223\n",
      "\tTest Accurcy:0.7500000596046448\n"
     ]
    }
   ],
   "source": [
    "# YOUR TRAINING HERE\n",
    "num_steps = 1000\n",
    "myBatchGen = batchGenerator(x = train_tweets, y = train_labels, batchSize = batch_size, shuffle = False, seed = 23)\n",
    "\n",
    "\n",
    "with tf.Session() as sess:\n",
    "    sess.run(tf.global_variables_initializer())\n",
    "#     print('1')\n",
    "    for step in range(num_steps):\n",
    "        # TODO: get data for a batch\n",
    "        training_batch_x, training_batch_y = next(myBatchGen)\n",
    "\n",
    "        # TODO: run the 'optimizer', 'loss', and 'acc' operations in the graph using the batch data\n",
    "        _, train_loss, train_acc = sess.run([optimizer, loss, acc], feed_dict={tweets: training_batch_x,\n",
    "                                                                               labels: training_batch_y})\n",
    "#         _, train_loss, train_acc = pass\n",
    "#         if step > 230:\n",
    "#             print(step)\n",
    "        if (step % 50 == 0 or step == 999):\n",
    "            trainLoss, testAccuracy = sess.run([loss, acc], feed_dict={tweets: test_tweets,\n",
    "                                                                           labels: test_labels})\n",
    "            print(\"For Iteration {}\\n\\tTest loss:{}\\n\\tTest Accurcy:{}\".format(step, trainLoss, testAccuracy))\n",
    "#             # TODO: get test accuracy and loss, and print them out."
   ]
  },
  {
   "cell_type": "markdown",
   "metadata": {},
   "source": [
    "## Part 2: Embedding Lookup layer\n",
    "\n",
    "![](./img/embedding.png)"
   ]
  },
  {
   "cell_type": "markdown",
   "metadata": {},
   "source": [
    "###  Define an embedding layer\n",
    "\n",
    "It's not hard to imagine in the previous practices, the input we fed in are very sparse because each word was represented as a one-hot vector. This makes it difficult for the network to understand what story the input data is telling. \n",
    "\n",
    "Word embedding: instead of using a one-hot vector to represent each word, we can add an word embedding matrix in which each word is represented as a low-dimensional vector. Note that this representation is not sparse any more, because we're working in a continuous vector space now. Words that share similar/related semantic meaning should be 'close to each other' in this vector space (we could define a distance measure to estimate the closeness). \n",
    "\n",
    "[https://www.tensorflow.org/tutorials/word2vec](https://www.tensorflow.org/tutorials/word2vec)\n",
    "\n",
    "<span style=\"color:red\">__TODO:__</span> Take a look at the website above, and write a function to do the embedding. The website itself is a very good tutorial.\n",
    "\n",
    "Hint: Use **tf.nn.embedding_lookup**"
   ]
  },
  {
   "cell_type": "code",
   "execution_count": 81,
   "metadata": {
    "collapsed": true
   },
   "outputs": [],
   "source": [
    "def embedding(input_, vocab_size, output_size, name):\n",
    "    \"\"\"\n",
    "    1. Define an embedding matrix\n",
    "    2. return both the lookup results and the embedding matrix.\n",
    "    \"\"\"\n",
    "#     embeddings = np.array(np.random.randn(len(helper.tok2id) + 1, embeddingSize), dtype=np.float32)\n",
    "    embeddings = tf.Variable(tf.random_uniform([vocab_size, output_size], -1.0, 1.0))# embeddings\n",
    "    # are random uniform between -1 and 1\n",
    "    embeddingLookup = tf.nn.embedding_lookup(params = embeddings, ids = input_,\n",
    "                                            name = name)\n",
    "    return(embeddings, embeddingLookup)\n",
    "# YOUR CODE HERE"
   ]
  },
  {
   "cell_type": "markdown",
   "metadata": {},
   "source": [
    "### Train a single lstm network with embedding layer\n",
    "\n",
    "<span style=\"color:red\">__TODO:__</span> Build a single-layer LSTM network according to the network structure. Then, train the network with the training function you wrote."
   ]
  },
  {
   "cell_type": "code",
   "execution_count": 87,
   "metadata": {},
   "outputs": [
    {
     "name": "stdout",
     "output_type": "stream",
     "text": [
      "(?, 20, 7597)\n",
      "(?, 20, 50)\n"
     ]
    }
   ],
   "source": [
    "print(tweets_onehot.get_shape())\n",
    "print(tweetsLookUps.get_shape())"
   ]
  },
  {
   "cell_type": "code",
   "execution_count": 193,
   "metadata": {
    "collapsed": true
   },
   "outputs": [],
   "source": [
    "# YOUR EMBEDDING SINGLE-LAYER LSTM HERE\n",
    "tweet_size = 20\n",
    "hidden_size = 100\n",
    "vocab_size = 7597\n",
    "batch_size = 64\n",
    "embeddingSize = 50\n",
    "\n",
    "# this just makes sure that all our following operations will be placed in the right graph.\n",
    "tf.reset_default_graph()\n",
    "\n",
    "\n",
    "\n",
    "# make placeholders for data we'll feed in\n",
    "tweets = tf.placeholder(tf.int32, [None, tweet_size])\n",
    "labels = tf.placeholder(tf.float32, [None])\n",
    "\n",
    "tweets_onehot = tf.one_hot(tweets, depth=vocab_size, axis=-1)\n",
    "tweetsWordEmbeddings, tweetsLookUps = embedding(input_ = tweets, vocab_size = vocab_size,\n",
    "                                                output_size = embeddingSize, name = \"myEmbeddings\")\n",
    "\n",
    "# define the lstm cell\n",
    "lstm_cell = tf.contrib.rnn.LSTMCell(hidden_size)\n",
    "\n",
    "# define the op that runs the LSTM, across time, on the data\n",
    "init_state = lstm_cell.zero_state(batch_size, tf.float32)\n",
    "# outputs, final_state = tf.nn.dynamic_rnn(lstm_cell, tweets_onehot, initial_state=init_state, dtype=tf.float32)\n",
    "outputs, final_state = tf.nn.dynamic_rnn(lstm_cell, tweetsLookUps, dtype=tf.float32)\n",
    "\n",
    "# define that our final sentiment logit is a linear function of the final state of the LSTM\n",
    "sentiment = linear(final_state[-1], 1, name=\"output\")\n",
    "\n",
    "# define cross entropy/sigmoid loss function\n",
    "sentiment = tf.squeeze(sentiment, [1])\n",
    "loss = tf.nn.sigmoid_cross_entropy_with_logits(logits=sentiment, labels=labels)\n",
    "loss = tf.reduce_mean(loss)\n",
    "\n",
    "# compute accuracy\n",
    "prob = tf.nn.sigmoid(sentiment)\n",
    "prediction = tf.to_float(tf.greater_equal(prob, 0.5))\n",
    "acc = tf.to_float(tf.equal(prediction, labels))\n",
    "acc = tf.reduce_mean(acc)\n",
    "\n",
    "# define optimizer\n",
    "trainer = tf.train.AdamOptimizer()\n",
    "gradients = trainer.compute_gradients(loss)\n",
    "gradients_clipped = [(tf.clip_by_value(t[0],-1,1),t[1]) for t in gradients]\n",
    "optimizer = trainer.apply_gradients(gradients_clipped)\n"
   ]
  },
  {
   "cell_type": "code",
   "execution_count": 195,
   "metadata": {},
   "outputs": [
    {
     "name": "stdout",
     "output_type": "stream",
     "text": [
      "For Iteration 0\n",
      "\tTest loss:0.7091147899627686\n",
      "\tTest Accurcy:0.46699997782707214\n",
      "For Iteration 50\n",
      "\tTest loss:0.6875331997871399\n",
      "\tTest Accurcy:0.5519999861717224\n",
      "For Iteration 100\n",
      "\tTest loss:0.6766270399093628\n",
      "\tTest Accurcy:0.5870000123977661\n",
      "For Iteration 150\n",
      "\tTest loss:0.6714581847190857\n",
      "\tTest Accurcy:0.5919999480247498\n",
      "For Iteration 200\n",
      "\tTest loss:0.6522839665412903\n",
      "\tTest Accurcy:0.6279999613761902\n",
      "For Iteration 250\n",
      "\tTest loss:0.6509639620780945\n",
      "\tTest Accurcy:0.6280000805854797\n",
      "For Iteration 300\n",
      "\tTest loss:0.6340239644050598\n",
      "\tTest Accurcy:0.6559999585151672\n",
      "For Iteration 350\n",
      "\tTest loss:0.6047096252441406\n",
      "\tTest Accurcy:0.6779999732971191\n",
      "For Iteration 400\n",
      "\tTest loss:0.6077768802642822\n",
      "\tTest Accurcy:0.6819999814033508\n",
      "For Iteration 450\n",
      "\tTest loss:0.589460015296936\n",
      "\tTest Accurcy:0.6840000152587891\n",
      "For Iteration 500\n",
      "\tTest loss:0.577507734298706\n",
      "\tTest Accurcy:0.6990000009536743\n",
      "For Iteration 550\n",
      "\tTest loss:0.5932913422584534\n",
      "\tTest Accurcy:0.6970000267028809\n",
      "For Iteration 600\n",
      "\tTest loss:0.5634082555770874\n",
      "\tTest Accurcy:0.7120000123977661\n",
      "For Iteration 650\n",
      "\tTest loss:0.5573297142982483\n",
      "\tTest Accurcy:0.7230000495910645\n",
      "For Iteration 700\n",
      "\tTest loss:0.5718936324119568\n",
      "\tTest Accurcy:0.7079999446868896\n",
      "For Iteration 750\n",
      "\tTest loss:0.5504059791564941\n",
      "\tTest Accurcy:0.7330000400543213\n",
      "For Iteration 800\n",
      "\tTest loss:0.5396782159805298\n",
      "\tTest Accurcy:0.7350000143051147\n",
      "For Iteration 850\n",
      "\tTest loss:0.5380865931510925\n",
      "\tTest Accurcy:0.7379999756813049\n",
      "For Iteration 900\n",
      "\tTest loss:0.5419049859046936\n",
      "\tTest Accurcy:0.7440000176429749\n",
      "For Iteration 950\n",
      "\tTest loss:0.5347182750701904\n",
      "\tTest Accurcy:0.7429999709129333\n",
      "For Iteration 999\n",
      "\tTest loss:0.5378749966621399\n",
      "\tTest Accurcy:0.7409999966621399\n",
      "For Iteration 1000\n",
      "\tTest loss:0.5361065864562988\n",
      "\tTest Accurcy:0.7419999837875366\n",
      "For Iteration 1050\n",
      "\tTest loss:0.528207540512085\n",
      "\tTest Accurcy:0.7339999675750732\n",
      "For Iteration 1100\n",
      "\tTest loss:0.5321202874183655\n",
      "\tTest Accurcy:0.7420000433921814\n",
      "For Iteration 1150\n",
      "\tTest loss:0.5250081419944763\n",
      "\tTest Accurcy:0.7549999356269836\n",
      "For Iteration 1200\n",
      "\tTest loss:0.5287905931472778\n",
      "\tTest Accurcy:0.7310000658035278\n",
      "For Iteration 1250\n",
      "\tTest loss:0.5314377546310425\n",
      "\tTest Accurcy:0.7459999918937683\n",
      "For Iteration 1300\n",
      "\tTest loss:0.5206174254417419\n",
      "\tTest Accurcy:0.7540000081062317\n",
      "For Iteration 1350\n",
      "\tTest loss:0.5179265737533569\n",
      "\tTest Accurcy:0.7489998936653137\n",
      "For Iteration 1400\n",
      "\tTest loss:0.5184128880500793\n",
      "\tTest Accurcy:0.7559999823570251\n",
      "For Iteration 1450\n",
      "\tTest loss:0.5160544514656067\n",
      "\tTest Accurcy:0.7540000081062317\n"
     ]
    }
   ],
   "source": [
    "# YOUR TRAINING HERE\n",
    "num_steps = 1500\n",
    "myBatchGen = batchGenerator(x = train_tweets, y = train_labels, batchSize = batch_size, shuffle = False, seed = 23)\n",
    "\n",
    "with tf.Session() as sess:\n",
    "    sess.run(tf.global_variables_initializer())\n",
    "    trainedEmbeddingsInit = tweetsWordEmbeddings.eval()\n",
    "#     print('1')\n",
    "    for step in range(num_steps):\n",
    "        # TODO: get data for a batch\n",
    "        training_batch_x, training_batch_y = next(myBatchGen)\n",
    "\n",
    "        # TODO: run the 'optimizer', 'loss', and 'acc' operations in the graph using the batch data\n",
    "        _, train_loss, train_acc = sess.run([optimizer, loss, acc], feed_dict={tweets: training_batch_x,\n",
    "                                                                               labels: training_batch_y})\n",
    "#         _, train_loss, train_acc = pass\n",
    "#         if step > 230:\n",
    "#             print(step)\n",
    "        if (step % 50 == 0 or step == 999):\n",
    "            trainLoss, testAccuracy = sess.run([loss, acc], feed_dict={tweets: test_tweets,\n",
    "                                                                           labels: test_labels})\n",
    "            print(\"For Iteration {}\\n\\tTest loss:{}\\n\\tTest Accurcy:{}\".format(step, trainLoss, testAccuracy))\n",
    "#             # TODO: get test accuracy and loss, and print them out.\n",
    "    trainedEmbeddingsFinal = tweetsWordEmbeddings.eval()"
   ]
  },
  {
   "cell_type": "code",
   "execution_count": 196,
   "metadata": {},
   "outputs": [
    {
     "data": {
      "text/plain": [
       "-0.00091599597"
      ]
     },
     "execution_count": 196,
     "metadata": {},
     "output_type": "execute_result"
    }
   ],
   "source": [
    "np.mean(trainedEmbeddingsInit)"
   ]
  },
  {
   "cell_type": "code",
   "execution_count": 197,
   "metadata": {},
   "outputs": [
    {
     "data": {
      "text/plain": [
       "-0.0011279726"
      ]
     },
     "execution_count": 197,
     "metadata": {},
     "output_type": "execute_result"
    }
   ],
   "source": [
    "np.mean(trainedEmbeddingsFinal)"
   ]
  },
  {
   "cell_type": "markdown",
   "metadata": {},
   "source": [
    "### Visualize word vectors via tSNE\n",
    "\n",
    "<span style=\"color:red\">__TODO:__</span>\n",
    "\n",
    "First, you need to retrieve **embedding matrix** from the network. Then use tSNE to reduce each low-dimensional word vector into a 2D vector. \n",
    "\n",
    "And then, you should visualize some interesting word pairs in 2D panel. You may find **scatter** function in **matplotlib.pyplot** useful.\n",
    "\n",
    "\n",
    "Hint: You can use **TSNE** tool provided in **scikit-learn**. And if you encounter dead kernel problem caused by \"Intel MKL FATAL ERROR: Cannot load libmkl_avx.so or libmkl_def.so\", please reinstall scikit-learn without MKL, ie., **conda install nomkl numpy scipy scikit-learn numexpr**. \n",
    "\n",
    "Here we provide some word pairs for you, like female-male or country-capital. And you can observe that these word-pair will look parallel with each other in a 2D tSNE panel. And you can find some other words and explore their relationship.\n",
    "\n",
    "The result for female-male pairs should look like, and you will observe that king-men and queen-women are parallel to each other in a 2D panel.\n",
    "\n",
    "\n",
    "![](./img/tsne_female_male.png)"
   ]
  },
  {
   "cell_type": "code",
   "execution_count": 198,
   "metadata": {
    "collapsed": true
   },
   "outputs": [],
   "source": [
    "vocabDict = {}\n",
    "for idx, word in enumerate(vocabulary):\n",
    "    vocabDict[word] = idx\n",
    "def lookupWordVec(word, vocab = vocabDict, embeddingsMat = trainedEmbeddingsFinal):\n",
    "    return(embeddingsMat[vocab[word],:])"
   ]
  },
  {
   "cell_type": "code",
   "execution_count": 199,
   "metadata": {
    "collapsed": true
   },
   "outputs": [],
   "source": [
    "female_male = [\"men\", \"women\", \"king\", \"queen\"]\n",
    "country_capital = [\"spain\", \"madrid\", \"italy\", \"rome\", \"japan\", \"tokyo\"]\n",
    "# you can try some other words"
   ]
  },
  {
   "cell_type": "code",
   "execution_count": 202,
   "metadata": {
    "collapsed": true
   },
   "outputs": [],
   "source": [
    "from sklearn.manifold import TSNE\n",
    "X = np.array([lookupWordVec(word = \"man\"), lookupWordVec(word = \"women\"),\n",
    "              lookupWordVec(word = \"king\"), lookupWordVec(word = \"queen\")])\n",
    "# X = np.array([[0, 0, 0], [0, 1, 1], [1, 0, 1], [1, 1, 1]])\n",
    "dimReducVecs_gender = TSNE(n_components=2).fit_transform(X)\n",
    "# dimReducVecs_gender = np.vstack([dimReducVecs, dimReducVecs[2,:] - dimReducVecs[0,:] + dimReducVecs[1,:]])\n",
    "# dimReducVecs = np.transpose(dimReducVecs)\n",
    "### your code here"
   ]
  },
  {
   "cell_type": "code",
   "execution_count": 203,
   "metadata": {},
   "outputs": [
    {
     "data": {
      "image/png": "[encoded data removed]",
      "text/plain": [
       "<matplotlib.figure.Figure at 0x7feaf55de9e8>"
      ]
     },
     "metadata": {},
     "output_type": "display_data"
    }
   ],
   "source": [
    "import matplotlib.pyplot\n",
    "import pylab\n",
    "\n",
    "x = [1,2,3,4]\n",
    "y = [3,4,8,6]\n",
    "\n",
    "matplotlib.pyplot.scatter(dimReducVecs_gender[:,0], dimReducVecs_gender[:,1])\n",
    "labels = [\"man\", \"women\", \"king\", \"queen\"]\n",
    "for label, x, y in zip(labels, dimReducVecs_gender[:, 0], dimReducVecs_gender[:, 1]):\n",
    "    plt.annotate(\n",
    "        label,\n",
    "        xy=(x, y), xytext=(-20, 20),\n",
    "        textcoords='offset points', ha='right', va='bottom',\n",
    "        bbox=dict(boxstyle='round,pad=0.5', fc='yellow', alpha=0.5),\n",
    "        arrowprops=dict(arrowstyle = '->', connectionstyle='arc3,rad=0'))\n",
    "\n",
    "    \n",
    "matplotlib.pyplot.show()"
   ]
  },
  {
   "cell_type": "code",
   "execution_count": 204,
   "metadata": {
    "collapsed": true
   },
   "outputs": [],
   "source": [
    "X = np.array([lookupWordVec(word = \"spain\"), lookupWordVec(word = \"madrid\"),\n",
    "              lookupWordVec(word = \"italy\"), lookupWordVec(word = \"rome\"),\n",
    "             lookupWordVec(word = \"japan\"), lookupWordVec(word = \"tokyo\")])\n",
    "dimReducVecs_caps = TSNE(n_components=2).fit_transform(X)"
   ]
  },
  {
   "cell_type": "code",
   "execution_count": 205,
   "metadata": {},
   "outputs": [
    {
     "data": {
      "image/png": "[encoded data removed]",
      "text/plain": [
       "<matplotlib.figure.Figure at 0x7feaf4f40518>"
      ]
     },
     "metadata": {},
     "output_type": "display_data"
    }
   ],
   "source": [
    "matplotlib.pyplot.scatter(dimReducVecs_caps[:,0], dimReducVecs_caps[:,1])\n",
    "labels = [\"spain\", \"madrid\", \"italy\", \"rome\", \"japan\", \"tokyo\"]\n",
    "for label, x, y in zip(labels, dimReducVecs_caps[:, 0], dimReducVecs_caps[:, 1]):\n",
    "    plt.annotate(\n",
    "        label,\n",
    "        xy=(x, y), xytext=(-20, 20),\n",
    "        textcoords='offset points', ha='right', va='bottom',\n",
    "        bbox=dict(boxstyle='round,pad=0.5', fc='yellow', alpha=0.5),\n",
    "        arrowprops=dict(arrowstyle = '->', connectionstyle='arc3,rad=0'))\n",
    "\n",
    "    \n",
    "matplotlib.pyplot.show()"
   ]
  },
  {
   "cell_type": "markdown",
   "metadata": {},
   "source": [
    "#### <span style=\"color:red\">TODO: </span> describe your observation of these word vectors\n",
    "\n",
    "Answer: **[Especially with the man-woman king-queen vectors we see some decent patterns. Word vectors should cluster next to words where they appear in the same context. As we can see this is more or less true and we see that certain vectors appear parallel to each other. We don't see perfect clustering of similar words, but this could be due to TSNE being difficult to interpret and variable, or to how long we trained our model for. Especially when it comes to the capital and country word vectors we don't see as clear a pattern as we do with the king-queen and man-women vectors. This could be due to how often these words showed up in the text and thus how well they were trained.]**"
   ]
  },
  {
   "cell_type": "code",
   "execution_count": null,
   "metadata": {
    "collapsed": true
   },
   "outputs": [],
   "source": []
  }
 ],
 "metadata": {
  "kernelspec": {
   "display_name": "Python [default]",
   "language": "python",
   "name": "python3"
  },
  "language_info": {
   "codemirror_mode": {
    "name": "ipython",
    "version": 3
   },
   "file_extension": ".py",
   "mimetype": "text/x-python",
   "name": "python",
   "nbconvert_exporter": "python",
   "pygments_lexer": "ipython3",
   "version": "3.5.3"
  }
 },
 "nbformat": 4,
 "nbformat_minor": 2
}
