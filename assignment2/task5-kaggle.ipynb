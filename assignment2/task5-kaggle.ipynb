{
 "cells": [
  {
   "cell_type": "markdown",
   "metadata": {},
   "source": [
    "# ECBM E4040 - Assignment 2- Task 5: Kaggle Open-ended Competition\n",
    "\n",
    "Kaggle is a platform for predictive modelling and analytics competitions in which companies and researchers post data and statisticians and data miners compete to produce the best models for predicting and describing the data.\n",
    "\n",
    "If you don't have a Kaggle account, feel free to join at [www.kaggle.com](https://www.kaggle.com). To let the TAs do the grading more conveniently, please use Lionmail to join Kaggle and use UNI as your username.\n",
    "\n",
    "Visit the website for this competition to join: \n",
    "[https://www.kaggle.com/t/8dd419892b1c49a3afb0cea385a7e677](https://www.kaggle.com/t/8dd419892b1c49a3afb0cea385a7e677)\n",
    "\n",
    "Details about this in-class competition is shown on the website above. Please read carefully.\n",
    "\n",
    "<span style=\"color:red\">__TODO__:</span>\n",
    "1. Train a custom model for the bottle dataset classification problem. You are free to use any methods taught in the class or found by yourself on the Internet (ALWAYS provide reference to the source). General training methods include:\n",
    "    * Dropout\n",
    "    * Batch normalization\n",
    "    * Early stopping\n",
    "    * l1-norm & l2-norm penalization\n",
    "2. You'll be given the test set to generate your predictions (70% public + 30% private, but you don't know which ones are public/private). Achieve 70% accuracy on the public test set. The accuracy will be shown on the public leaderboard once you submit your prediction .csv file. \n",
    "3. (A) Report your results on the Kaggle, for comparison with other students' optimization results (you should do this several times). (C) Save your best model, using BitBucket, at the same time when you (B) submit the homework files into Courseworks. See instructions below. \n",
    "\n",
    "__Hint__: You can start from what you implemented in task 4. Another classic classification model named 'VGG16' can also be easily implemented."
   ]
  },
  {
   "cell_type": "markdown",
   "metadata": {},
   "source": [
    "## HW Submission Details:\n",
    "There are three components to reporting the results of this task: \n",
    "\n",
    "**(A) Submission (possible several) of the .csv prediction file throught the Kaggle platform;**. You should start doing this VARY early, so that students can compare their work as they are making progress with model optimization.\n",
    "\n",
    "**(B) Editing and submitting the content of this Jupyter notebook, through Courseworks; **\n",
    "(i) The code for your CNN model and for the training function. The code should be stored in __./ecbm4040/neuralnets/kaggle.py__;\n",
    "(ii) Print out your training process and accuracy __within this notebook__;\n",
    "\n",
    "**(C) Submitting your best CNN model through instructor-owned private BitBucket repo.**\n",
    "\n",
    "**Description of (C):** \n",
    "For this task, you will be utilizing bitbucket to save your model for submission. Bitbucket provides Git code managment. For those who are not familiar with git operations, please check [Learn Git with Bitbucket Cloud](https://www.atlassian.com/git/tutorials/learn-git-with-bitbucket-cloud) as reference.\n",
    "**TAs will create a private Bitbucket repository for each student, with the write access. This repo will be owned by the instructors. Make sure to properly submit your model to that exact repository (submissions to your own private repository will not count)** Students need to populate the following file to provide instructors with bitbucket account information: https://docs.google.com/spreadsheets/d/1_7cZjyr34I2y-AD_0N5UaJ3ZnqdhYcvrdoTsYvOSd-g/edit#gid=0.\n",
    "\n",
    "<span style=\"color:red\">__Submission content:__ :</span>\n",
    "(i) Upload your best model with all the data output (for example, __MODEL.data-00000-of-00001, MODEL.meta, MODEL.index__) into the  BitBucket. Store your model in the folder named \"__KaggleModel__\" within the BitBucket repository. \n",
    "Remember to delete any intermediate results, **we only want your best model. Do not upload any data files**. The instructors will rerun the uploaded best model and verify against the score which you reported on the Kaggle.\n",
    "\n"
   ]
  },
  {
   "cell_type": "markdown",
   "metadata": {},
   "source": [
    "## Load Data"
   ]
  },
  {
   "cell_type": "code",
   "execution_count": 1,
   "metadata": {
    "collapsed": true
   },
   "outputs": [],
   "source": [
    "%matplotlib inline\n",
    "%load_ext autoreload\n",
    "%autoreload 2\n",
    "\n",
    "# import tensorflow as tf\n",
    "import os.path\n",
    "import numpy as np\n",
    "from ecbm4040.neuralnets.kaggle import my_training\n",
    "import glob\n",
    "import matplotlib.image as img\n",
    "from sklearn.model_selection import train_test_split\n",
    "import scipy\n",
    "def loadImages():\n",
    "    imgReshapeSize = 32\n",
    "    X_all = np.zeros((15000, imgReshapeSize, imgReshapeSize, 3))\n",
    "    y_all = np.zeros(15000)\n",
    "    x_class = np.zeros((3000, imgReshapeSize, imgReshapeSize, 3))\n",
    "    saveFileTrain = \"data/kaggle/X_train.npy\"\n",
    "    if False:#(os.path.exists(saveFileTrain)):\n",
    "        X_all = np.load(saveFileTrain)\n",
    "    else:\n",
    "        for imageClass in np.arange(0,5):\n",
    "            print(\"Reading all images in class {}\".format(imageClass))\n",
    "            classImagePaths = glob.glob(\"data/kaggle/train_128/{}/*.png\".format(imageClass))\n",
    "#             scipy.misc.imresize(original_image, (i_height, i_width))\n",
    "            x_class = np.array([scipy.misc.imresize(img.imread((fname)), (imgReshapeSize, imgReshapeSize)) for fname in classImagePaths])\n",
    "            print(\"{} images found\".format(len(classImagePaths)))\n",
    "            print(\"*\"*100)\n",
    "            X_all[np.arange(imageClass*3000, (imageClass + 1)*3000), :] = x_class\n",
    "            y_all[np.arange(imageClass*3000, (imageClass + 1)*3000)] = np.ones(3000)*imageClass        \n",
    "        #     return(X_all, y_all)\n",
    "    X_train, X_val, y_train, y_val = train_test_split(X_all, y_all, test_size = 0.25, random_state = 23)\n",
    "#     np.save(saveFileTrain, X_all)img.imread((fname))\n",
    "    X_all = None\n",
    "    y_all = None\n",
    "    print(\"Reading test Data\")\n",
    "    X_test = np.zeros((3500, imgReshapeSize, imgReshapeSize, 3))\n",
    "    saveFileTest = \"data/kaggle/X_train.npy\"\n",
    "    if False:#(os.path.exists(saveFileTest)):\n",
    "        X_test = np.load(saveFileTest)\n",
    "    else:\n",
    "        extension = \".png\"\n",
    "        path_to_image_folder = \"data/kaggle/test_128/\"#Wherever you have your images\n",
    "        num_test_samples = 3500 #Ideally you could count the elements in the folder\n",
    "        xTestFiles = [path_to_image_folder + str(idx)+extension for idx in range(num_test_samples)]\n",
    "        X_test = np.array([scipy.misc.imresize(img.imread((fname)), (imgReshapeSize, imgReshapeSize)) for fname in xTestFiles])\n",
    "    print(\"X_train shape {}\\n X_val shape {}\\n X_test shape {}\".format(X_train.shape, X_val.shape, X_test.shape))\n",
    "    print(\"y_train shape {}\\n y_val shape {}\".format(y_train.shape, y_val.shape))\n",
    "#     np.save(saveFileTest, X_test)\n",
    "    return(X_train, X_val, X_test, y_train, y_val)"
   ]
  },
  {
   "cell_type": "code",
   "execution_count": 2,
   "metadata": {},
   "outputs": [
    {
     "name": "stdout",
     "output_type": "stream",
     "text": [
      "Reading all images in class 0\n",
      "3000 images found\n",
      "****************************************************************************************************\n",
      "Reading all images in class 1\n",
      "3000 images found\n",
      "****************************************************************************************************\n",
      "Reading all images in class 2\n",
      "3000 images found\n",
      "****************************************************************************************************\n",
      "Reading all images in class 3\n",
      "3000 images found\n",
      "****************************************************************************************************\n",
      "Reading all images in class 4\n",
      "3000 images found\n",
      "****************************************************************************************************\n",
      "Reading test Data\n",
      "X_train shape (11250, 32, 32, 3)\n",
      " X_val shape (3750, 32, 32, 3)\n",
      " X_test shape (3500, 32, 32, 3)\n",
      "y_train shape (11250,)\n",
      " y_val shape (3750,)\n"
     ]
    }
   ],
   "source": [
    "# X_all, y_all = loadImages()\n",
    "X_train, X_val, X_test, y_train, y_val = loadImages()"
   ]
  },
  {
   "cell_type": "markdown",
   "metadata": {},
   "source": [
    "## Train your model here"
   ]
  },
  {
   "cell_type": "code",
   "execution_count": 5,
   "metadata": {
    "scrolled": true
   },
   "outputs": [
    {
     "name": "stdout",
     "output_type": "stream",
     "text": [
      "Building my LeNet. Parameters: \n",
      "conv_featmap=[[20, 12, 12]]\n",
      "fc_units=[500, 250, 100]\n",
      "conv_kernel_size=[[5, 5, 5]]\n",
      "pooling_size=[2]\n",
      "l2_norm=0.01\n",
      "seed=235\n",
      "learning_rate=0.01\n",
      "pooling layer shape (?, 16, 16, 12) at pool 0\n",
      "Input shape for fully connected layer: (?, 3072)\n",
      "number of batches for training: 703\n",
      "epoch 1\n",
      "Best validation accuracy! iteration:100 accuracy: 41.013333333333335%\n",
      "Best validation accuracy! iteration:200 accuracy: 46.693333333333335%\n",
      "Best validation accuracy! iteration:300 accuracy: 48.50666666666667%\n",
      "Best validation accuracy! iteration:400 accuracy: 49.06666666666667%\n",
      "Best validation accuracy! iteration:500 accuracy: 50.346666666666664%\n",
      "Best validation accuracy! iteration:600 accuracy: 51.78666666666667%\n",
      "epoch time 9.081928491592407\n",
      "epoch 2\n",
      "Best validation accuracy! iteration:800 accuracy: 53.17333333333333%\n",
      "Best validation accuracy! iteration:900 accuracy: 53.84%\n",
      "Best validation accuracy! iteration:1100 accuracy: 55.68%\n",
      "Best validation accuracy! iteration:1200 accuracy: 56.13333333333333%\n",
      "Best validation accuracy! iteration:1300 accuracy: 56.42666666666667%\n",
      "epoch time 8.620049476623535\n",
      "epoch 3\n",
      "Best validation accuracy! iteration:1600 accuracy: 56.61333333333334%\n",
      "Best validation accuracy! iteration:1700 accuracy: 57.17333333333333%\n",
      "Best validation accuracy! iteration:1800 accuracy: 57.86666666666667%\n",
      "epoch time 8.490243911743164\n",
      "epoch 4\n",
      "Best validation accuracy! iteration:2300 accuracy: 58.0%\n",
      "Best validation accuracy! iteration:2400 accuracy: 58.4%\n",
      "epoch time 8.397041082382202\n",
      "epoch 5\n",
      "Best validation accuracy! iteration:3000 accuracy: 58.72%\n",
      "Best validation accuracy! iteration:3100 accuracy: 59.12%\n",
      "Best validation accuracy! iteration:3400 accuracy: 59.413333333333334%\n",
      "epoch time 8.712932348251343\n",
      "epoch 6\n",
      "Best validation accuracy! iteration:3900 accuracy: 59.92%\n",
      "epoch time 8.416431188583374\n",
      "epoch 7\n",
      "epoch time 8.347632884979248\n",
      "epoch 8\n",
      "epoch time 8.235779285430908\n",
      "epoch 9\n",
      "epoch time 8.418960571289062\n",
      "epoch 10\n",
      "epoch time 8.365381717681885\n",
      "epoch 11\n",
      "Best validation accuracy! iteration:7700 accuracy: 60.18666666666667%\n",
      "epoch time 8.30105185508728\n",
      "epoch 12\n",
      "Best validation accuracy! iteration:7800 accuracy: 60.42666666666667%\n",
      "epoch time 8.276818990707397\n",
      "epoch 13\n",
      "Best validation accuracy! iteration:8900 accuracy: 60.53333333333333%\n",
      "Best validation accuracy! iteration:9000 accuracy: 61.306666666666665%\n",
      "epoch time 8.369977235794067\n",
      "epoch 14\n",
      "Best validation accuracy! iteration:9700 accuracy: 61.626666666666665%\n",
      "epoch time 8.326615810394287\n",
      "epoch 15\n",
      "Best validation accuracy! iteration:10400 accuracy: 61.78666666666667%\n",
      "Best validation accuracy! iteration:10500 accuracy: 61.86666666666667%\n",
      "epoch time 8.557848930358887\n",
      "epoch 16\n",
      "epoch time 8.31273078918457\n",
      "epoch 17\n",
      "epoch time 8.21148157119751\n",
      "epoch 18\n",
      "epoch time 8.09164023399353\n",
      "epoch 19\n",
      "epoch time 8.29335069656372\n",
      "epoch 20\n",
      "epoch time 8.259176254272461\n",
      "epoch 21\n",
      "epoch time 8.142126083374023\n",
      "epoch 22\n",
      "epoch time 8.34541654586792\n",
      "epoch 23\n",
      "Best validation accuracy! iteration:16000 accuracy: 61.973333333333336%\n",
      "epoch time 8.399257183074951\n",
      "epoch 24\n",
      "Best validation accuracy! iteration:16200 accuracy: 62.026666666666664%\n",
      "Best validation accuracy! iteration:16700 accuracy: 62.266666666666666%\n",
      "Best validation accuracy! iteration:16800 accuracy: 62.74666666666667%\n",
      "epoch time 8.423024892807007\n",
      "epoch 25\n",
      "epoch time 8.261489629745483\n",
      "epoch 26\n",
      "epoch time 8.26813554763794\n",
      "epoch 27\n",
      "Best validation accuracy! iteration:18700 accuracy: 62.77333333333333%\n",
      "Best validation accuracy! iteration:18900 accuracy: 63.22666666666667%\n",
      "epoch time 8.437906503677368\n",
      "epoch 28\n",
      "epoch time 8.183255910873413\n",
      "epoch 29\n",
      "Best validation accuracy! iteration:19700 accuracy: 63.36%\n",
      "Best validation accuracy! iteration:20300 accuracy: 63.44%\n",
      "epoch time 8.338118553161621\n",
      "epoch 30\n",
      "Best validation accuracy! iteration:20800 accuracy: 63.54666666666667%\n",
      "Best validation accuracy! iteration:21000 accuracy: 64.16%\n",
      "epoch time 8.355207443237305\n",
      "Traning ends. The best valid accuracy is 64.16. Model named lenet_1509492956.\n"
     ]
    }
   ],
   "source": [
    "# YOUR CODE HERE\n",
    "# from ecbm4040.neuralnets.kaggle import my_training\n",
    "import tensorflow as tf\n",
    "tf.reset_default_graph()\n",
    "\n",
    "# \n",
    "conv_featmap = [[20, 12, 12]]\n",
    "fc_units=[500, 250, 100]\n",
    "conv_kernel_size = [[5, 5, 5]]\n",
    "pooling_size=[2]\n",
    "\n",
    "\n",
    "my_training(X_train, y_train, X_val, y_val, outputSize = 5,\n",
    "         conv_featmap = conv_featmap,\n",
    "         fc_units = fc_units,\n",
    "         conv_kernel_size = conv_kernel_size,\n",
    "         pooling_size = pooling_size,\n",
    "         l2_norm=0.01,\n",
    "         seed=235,\n",
    "         learning_rate=1e-2,\n",
    "         epoch=30,\n",
    "         batch_size=16,\n",
    "         verbose=False,\n",
    "         pre_trained_model=None,\n",
    "         keepProbVal = 0.5)"
   ]
  },
  {
   "cell_type": "markdown",
   "metadata": {},
   "source": [
    "## Save your best model"
   ]
  },
  {
   "cell_type": "code",
   "execution_count": 12,
   "metadata": {},
   "outputs": [
    {
     "data": {
      "text/plain": [
       "<function ecbm4040.neuralnets.kaggle.my_training>"
      ]
     },
     "execution_count": 12,
     "metadata": {},
     "output_type": "execute_result"
    }
   ],
   "source": [
    "# YOUR CODE HERE\n",
    "my_training()"
   ]
  },
  {
   "cell_type": "code",
   "execution_count": 94,
   "metadata": {
    "scrolled": true
   },
   "outputs": [
    {
     "name": "stdout",
     "output_type": "stream",
     "text": [
      "pooling layer shape (?, 16, 16, 12) at pool 0\n",
      "Input shape for fully connected layer: (?, 3072)\n",
      "INFO:tensorflow:Restoring parameters from model/lenet_1509492956\n",
      "validation accuracy : 18.10666666666667%\n"
     ]
    }
   ],
   "source": [
    "tf.reset_default_graph()\n",
    "from ecbm4040.neuralnets.kaggle import *\n",
    "# pre_trained_model = \"model/lenet_1509492956.data-00000-of-00001\"\n",
    "# pre_trained_model = \"model/lenet_1509492956.index\"\n",
    "pre_trained_model = \"model/lenet_1509492956.meta\"\n",
    "# pre_trained_model = \"model/checkpoint\"\n",
    "\n",
    "\n",
    "\n",
    "# X_train, y_train, X_val, y_val, outputSize, \n",
    "outputSize = 5\n",
    "conv_featmap = [[20, 12, 12]]\n",
    "fc_units=[500, 250, 100]\n",
    "conv_kernel_size = [[5, 5, 5]]\n",
    "pooling_size=[2]\n",
    "l2_norm=0.01\n",
    "seed=235\n",
    "learning_rate=1e-2\n",
    "epoch=30\n",
    "batch_size=16\n",
    "verbose=False\n",
    "# pre_trained_model=None\n",
    "keepProbVal = 0.5\n",
    "\n",
    "\n",
    "\n",
    "\n",
    "with tf.name_scope('inputs'):\n",
    "    xs = tf.placeholder(shape=[None,X_train.shape[1],X_train.shape[2], 3], dtype=tf.float32)\n",
    "    ys = tf.placeholder(shape=[None, ], dtype=tf.int64)\n",
    "    keep_prob = tf.placeholder(tf.float32)\n",
    "#print(\"input shapes after resizing: {}\".format(X_train.shape))\n",
    "output, loss = my_LeNet(xs, ys,\n",
    "                     img_len=X_train.shape[1],\n",
    "                     channel_num=3,\n",
    "                     output_size=outputSize,\n",
    "                     conv_featmap=conv_featmap,\n",
    "                     fc_units=fc_units,\n",
    "                     conv_kernel_size=conv_kernel_size,\n",
    "                     pooling_size=pooling_size,\n",
    "                     l2_norm=l2_norm,\n",
    "                     seed=seed,\n",
    "                     keep_prob = keep_prob)\n",
    "\n",
    "\n",
    "# iters = int(X_train.shape[0] / batch_size)\n",
    "# print('number of batches for training: {}'.format(iters))\n",
    "\n",
    "step = train_step(loss)\n",
    "eve = evaluate(output, ys)\n",
    "pred = prediction(output)\n",
    "\n",
    "# iter_total = 0\n",
    "# best_acc = 0\n",
    "# cur_model_name = 'kaggleModel_{}'.format(int(time.time()))\n",
    "\n",
    "with tf.Session() as sess:\n",
    "    sess.run(tf.global_variables_initializer())\n",
    "    \n",
    "    \n",
    "    \n",
    "    saver = tf.train.import_meta_graph(pre_trained_model)\n",
    "    saver.restore(sess, tf.train.latest_checkpoint('model/'))\n",
    "    graph = tf.get_default_graph()\n",
    "\n",
    "#     idx = 0\n",
    "#     tf_input = graph.get_operations()[idx].name+':0'\n",
    "    \n",
    "    \n",
    "    \n",
    "    idx = 0\n",
    "    tf_input = graph.get_operations()[idx].name+':0'\n",
    "    output = graph.get_tensor_by_name('fc_layer_2/Add:0')\n",
    "    pred = graph.get_tensor_by_name('evaluate/ArgMax:0')\n",
    "    error_num = tf.count_nonzero(pred - y_val, name='my_error_num')\n",
    "#     cell_out = tf.add(tf.matmul(input_x, weight), bias)\n",
    "#     print(graph.get_operations())\n",
    "#     1/0\n",
    "#     merge = tf.summary.merge_all()\n",
    "    step = train_step(loss)\n",
    "#     eve = evaluate(output, ys)\n",
    "    pred = prediction(output)\n",
    "\n",
    "#     writer = tf.summary.FileWriter(\"log/{}\".format(cur_model_name), sess.graph)\n",
    "#     saver = tf.train.Saver()\n",
    "#     sess.run(tf.global_variables_initializer())\n",
    "    #X_val = tf.image.resize_images(X_val, [imageReshapeSize, imageReshapeSize])\n",
    "    #X_val = X_val.eval(session=sess)\n",
    "    # try to restore the pre_trained\n",
    "#     try:\n",
    "#         print(\"Load the model from: {}\".format(pre_trained_model))\n",
    "#         saver.restore(sess, pre_trained_model)\n",
    "#     except Exception:\n",
    "#         print(\"Load model Failed!\")\n",
    "#         pass\n",
    "    \n",
    "    valid_eve = sess.run(error_num, feed_dict={xs: X_val, ys: y_val,\n",
    "                                                               keep_prob: 1.0})\n",
    "    valid_acc = 100 - valid_eve * 100 / y_val.shape[0]\n",
    "    print('validation accuracy : {}%'.format(valid_acc))"
   ]
  },
  {
   "cell_type": "code",
   "execution_count": 95,
   "metadata": {},
   "outputs": [
    {
     "data": {
      "text/plain": [
       "(3750,)"
      ]
     },
     "execution_count": 95,
     "metadata": {},
     "output_type": "execute_result"
    }
   ],
   "source": [
    "y_val.shape"
   ]
  },
  {
   "cell_type": "code",
   "execution_count": 92,
   "metadata": {},
   "outputs": [
    {
     "data": {
      "text/plain": [
       "3071"
      ]
     },
     "execution_count": 92,
     "metadata": {},
     "output_type": "execute_result"
    }
   ],
   "source": [
    "valid_eve"
   ]
  },
  {
   "cell_type": "markdown",
   "metadata": {},
   "source": [
    "## Generate .csv file for Kaggle"
   ]
  },
  {
   "cell_type": "code",
   "execution_count": null,
   "metadata": {
    "collapsed": true
   },
   "outputs": [],
   "source": [
    "# The following code snippet can be used to generate your prediction .csv file.\n",
    "\n",
    "import csv\n",
    "with open('predicted.csv','w') as csvfile:\n",
    "    fieldnames = ['Id','label']\n",
    "    writer = csv.DictWriter(csvfile, fieldnames=fieldnames)\n",
    "    writer.writeheader()    \n",
    "    for index,l in enumerate(predicted_values_generated_by_your_model):\n",
    "        filename = str(index)+'.png'\n",
    "        label = str(l)\n",
    "        writer.writerow({'Id': filename, 'label': label})"
   ]
  }
 ],
 "metadata": {
  "kernelspec": {
   "display_name": "Python 3",
   "language": "python",
   "name": "python3"
  },
  "language_info": {
   "codemirror_mode": {
    "name": "ipython",
    "version": 3
   },
   "file_extension": ".py",
   "mimetype": "text/x-python",
   "name": "python",
   "nbconvert_exporter": "python",
   "pygments_lexer": "ipython3",
   "version": "3.5.4"
  }
 },
 "nbformat": 4,
 "nbformat_minor": 2
}
